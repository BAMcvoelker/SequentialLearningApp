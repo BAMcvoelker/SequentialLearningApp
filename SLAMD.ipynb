{
 "cells": [
  {
   "cell_type": "code",
   "execution_count": 1,
   "metadata": {},
   "outputs": [
    {
     "ename": "ModuleNotFoundError",
     "evalue": "No module named 'ipyvuetify'",
     "output_type": "error",
     "traceback": [
      "\u001b[0;31m---------------------------------------------------------------------------\u001b[0m",
      "\u001b[0;31mModuleNotFoundError\u001b[0m                       Traceback (most recent call last)",
      "\u001b[0;32m<ipython-input-1-d10869c18617>\u001b[0m in \u001b[0;36m<module>\u001b[0;34m\u001b[0m\n\u001b[0;32m----> 1\u001b[0;31m \u001b[0;32mimport\u001b[0m \u001b[0mipyvuetify\u001b[0m \u001b[0;32mas\u001b[0m \u001b[0mv\u001b[0m\u001b[0;34m\u001b[0m\u001b[0;34m\u001b[0m\u001b[0m\n\u001b[0m\u001b[1;32m      2\u001b[0m \u001b[0;32mfrom\u001b[0m \u001b[0mipyvuetify\u001b[0m\u001b[0;34m.\u001b[0m\u001b[0mextra\u001b[0m \u001b[0;32mimport\u001b[0m \u001b[0mFileInput\u001b[0m\u001b[0;34m\u001b[0m\u001b[0;34m\u001b[0m\u001b[0m\n\u001b[1;32m      3\u001b[0m \u001b[0;32mimport\u001b[0m \u001b[0mipywidgets\u001b[0m \u001b[0;32mas\u001b[0m \u001b[0mwidgets\u001b[0m\u001b[0;34m\u001b[0m\u001b[0;34m\u001b[0m\u001b[0m\n",
      "\u001b[0;31mModuleNotFoundError\u001b[0m: No module named 'ipyvuetify'"
     ]
    }
   ],
   "source": [
    "import ipyvuetify as v\n",
    "from ipyvuetify.extra import FileInput\n",
    "import ipywidgets as widgets"
   ]
  },
  {
   "cell_type": "code",
   "execution_count": null,
   "metadata": {},
   "outputs": [],
   "source": [
    "######## Components ########\n",
    "\n",
    "\n",
    "file_input = FileInput(show_progress=True,multiple=False,accept='text/csv',placeholder=\"Select File\")\n",
    "\n",
    "\n",
    "delim = v.RadioGroup(v_model='',label='Seperator', children=[v.Radio(label=';'),\n",
    "                                             v.Radio(label=','),\n",
    "                                             ])\n",
    "delim_dec = v.RadioGroup(v_model='',label='Decimal Delimiter', children=[v.Radio(label='.'),\n",
    "                                             v.Radio(label=','),\n",
    "                                             ])\n",
    "\n",
    "\n",
    "activated = v.Chip(children=[''])\n",
    "\n",
    "items = [{\n",
    "  'id': 1,\n",
    "  'name': 'Select All',\n",
    "  'children': [\n",
    "    { 'id': 2, 'name': '\"' },\n",
    "    { 'id': 3, 'name': ' ' },\n",
    "    { 'id': 4, 'name': '%' },\n",
    "  ],\n",
    "}]\n",
    "\n",
    "def on_activated(widget, event, data):\n",
    "    activated.children = [f'{data}']\n",
    "\n",
    "treeview = v.Treeview(items=items, selectable=True, activatable=True, v_model=[2])\n",
    "treeview.on_event('update:active', on_activated)\n",
    "\n",
    "eraser=v.Container(row=True,children=[\n",
    "    v.Flex(xs12=True, children=[treeview])])\n",
    "\n",
    "\n",
    "rows = v.Slider(thumb_label=True,label='Skip Rows')\n",
    "\n",
    "\n",
    "button_preview=v.Btn(color='primary', class_='ma-2', children=[\n",
    "        v.Icon(left=True, children=['mdi-eye']),\n",
    "        'Preview'])\n",
    "\n",
    "\n",
    "button_upload=v.Btn(color='primary', class_='ma-2', children=[\n",
    "        v.Icon(left=True, children=['mdi-file-upload-outline']),\n",
    "        'Confirm Upload'])\n",
    "        "
   ]
  },
  {
   "cell_type": "code",
   "execution_count": null,
   "metadata": {
    "scrolled": true
   },
   "outputs": [],
   "source": [
    "upload_tab=v.TabItem(children=[\n",
    "                    v.Container(children=[\n",
    "                        v.Layout(row=False,  align_center=True, justify_center=True, children=[\n",
    "                                v.Flex(xs12=True, lg6=True, xl4=True, children=[\n",
    "                                    file_input\n",
    "                                ]), \n",
    "                        ]),\n",
    "                        v.Layout(row=True,  align_center=True,justify_center=True,children=[\n",
    "                                v.Flex(xs12=True, lg6=True, xl4=True, children=['',\n",
    "                                    delim\n",
    "                                ]),\n",
    "                                v.Flex(xs12=True, lg6=True, xl4=True, children=['',\n",
    "                                    delim_dec\n",
    "                                ]),\n",
    "                                v.Flex (xs12=True, lg6=True, xl4=True,children=['Eraser',\n",
    "                                    eraser\n",
    "                                ]),\n",
    "                                v.Flex(xs12=True, lg6=True, xl4=True, children=['',\n",
    "                                    rows\n",
    "                                ]),    \n",
    "                        ]),\n",
    "                        v.Layout(row=True,  align_center=True,justify_center=True,children=[\n",
    "                                    v.Flex(xs12=True, lg6=True, xl4=True, children=['',\n",
    "                                        button_preview,button_upload\n",
    "                                    ]),           \n",
    "                        ]),\n",
    "                    ])\n",
    "            ])\n",
    "\n",
    "\n",
    "\n",
    "\n",
    "\n",
    "\n",
    "\n",
    "\n",
    "\n",
    "tabs=v.Tabs(_metadata={'mount_id': 'content-main'}, children=[\n",
    "    v.Tab(children=['Upload']),\n",
    "    v.Tab(children=['Data Info']),\n",
    "    v.Tab(children=['Design Space Explorer']),\n",
    "    v.Tab(children=['Sequential Learning']),\n",
    "    v.Tab(children=['Automation']),\n",
    "        upload_tab,])\n",
    "                       \n",
    "      \n",
    "\n",
    "\n",
    "\n",
    "    \n",
    "    \n",
    "\n"
   ]
  },
  {
   "cell_type": "code",
   "execution_count": null,
   "metadata": {},
   "outputs": [],
   "source": [
    "def upload_clicked(widget, event, data):\n",
    "    myfiles = file_input.get_files()\n",
    "    data = myfiles[0]['file_obj'].read()\n",
    "    #print(data)\n",
    "    #print(\"delim valeu\",delim.get_state().values())\n",
    "    print(\"delim valeu\",delim.value())\n",
    "\n",
    "button_upload.on_event('click',upload_clicked)\n"
   ]
  },
  {
   "cell_type": "code",
   "execution_count": null,
   "metadata": {},
   "outputs": [],
   "source": [
    "tabs"
   ]
  },
  {
   "cell_type": "code",
   "execution_count": null,
   "metadata": {},
   "outputs": [],
   "source": []
  },
  {
   "cell_type": "code",
   "execution_count": null,
   "metadata": {},
   "outputs": [],
   "source": []
  },
  {
   "cell_type": "code",
   "execution_count": null,
   "metadata": {},
   "outputs": [],
   "source": []
  }
 ],
 "metadata": {
  "interpreter": {
   "hash": "aee8b7b246df8f9039afb4144a1f6fd8d2ca17a180786b69acc140d282b71a49"
  },
  "kernelspec": {
   "display_name": "Python 3",
   "language": "python",
   "name": "python3"
  },
  "language_info": {
   "codemirror_mode": {
    "name": "ipython",
    "version": 3
   },
   "file_extension": ".py",
   "mimetype": "text/x-python",
   "name": "python",
   "nbconvert_exporter": "python",
   "pygments_lexer": "ipython3",
   "version": "3.8.8"
  },
  "voila": {
   "template": "vuetify-default"
  }
 },
 "nbformat": 4,
 "nbformat_minor": 2
}
